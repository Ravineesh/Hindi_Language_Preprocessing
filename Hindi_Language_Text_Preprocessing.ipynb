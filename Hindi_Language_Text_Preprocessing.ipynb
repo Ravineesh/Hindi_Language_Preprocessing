{
  "nbformat": 4,
  "nbformat_minor": 0,
  "metadata": {
    "colab": {
      "name": "Hindi Language Text Preprocessing.ipynb",
      "provenance": [],
      "authorship_tag": "ABX9TyMSV6O3EnSXCi4ZwM3jhct0"
    },
    "kernelspec": {
      "name": "python3",
      "display_name": "Python 3"
    }
  },
  "cells": [
    {
      "cell_type": "code",
      "metadata": {
        "id": "y-vZaOAjErKo",
        "colab_type": "code",
        "colab": {
          "base_uri": "https://localhost:8080/",
          "height": 118
        },
        "outputId": "16ed900c-c427-44b7-e08b-2ad456e008a6"
      },
      "source": [
        "%%time\n",
        "import pandas as pd\n",
        "import numpy as np\n",
        "import itertools as it\n",
        "import spacy\n",
        "from spacy.lang.hi import Hindi\n",
        "import regex as re\n",
        "import demoji\n",
        "nlp_hi = Hindi()\n",
        "demoji.download_codes()"
      ],
      "execution_count": 11,
      "outputs": [
        {
          "output_type": "stream",
          "text": [
            "Downloading emoji data ...\n",
            "... OK (Got response in 0.13 seconds)\n",
            "Writing emoji data to /root/.demoji/codes.json ...\n",
            "... OK\n",
            "CPU times: user 63 ms, sys: 7.84 ms, total: 70.8 ms\n",
            "Wall time: 284 ms\n"
          ],
          "name": "stdout"
        }
      ]
    },
    {
      "cell_type": "markdown",
      "metadata": {
        "id": "-WuVfCLEGzfV",
        "colab_type": "text"
      },
      "source": [
        "### Extended Stop words function"
      ]
    },
    {
      "cell_type": "code",
      "metadata": {
        "id": "-K1YbwzXFEQs",
        "colab_type": "code",
        "colab": {
          "base_uri": "https://localhost:8080/",
          "height": 50
        },
        "outputId": "d038d1ac-0e30-45ee-8cfd-e32818b9a341"
      },
      "source": [
        "%%time\n",
        "extended_stop_words = ['जी','श्री','|','l','श्रीमती']\n",
        "for stopword in extended_stop_words:\n",
        "    lexeme = nlp_hi.vocab[stopword]\n",
        "    lexeme.is_stop = True"
      ],
      "execution_count": 12,
      "outputs": [
        {
          "output_type": "stream",
          "text": [
            "CPU times: user 514 µs, sys: 0 ns, total: 514 µs\n",
            "Wall time: 675 µs\n"
          ],
          "name": "stdout"
        }
      ]
    },
    {
      "cell_type": "markdown",
      "metadata": {
        "id": "OegUUhU0HMOz",
        "colab_type": "text"
      },
      "source": [
        "### Preprocessing Function"
      ]
    },
    {
      "cell_type": "code",
      "metadata": {
        "id": "Lb4OeoCsHK7j",
        "colab_type": "code",
        "colab": {
          "base_uri": "https://localhost:8080/",
          "height": 50
        },
        "outputId": "f65e6ab6-66db-423f-c691-0c03eea2a7c9"
      },
      "source": [
        "%%time\n",
        "def preprocessing_hi(text_hi):\n",
        "  tweet_hi = []\n",
        "  tokenized_text = nlp_hi(text_hi)\n",
        "  for token in tokenized_text:\n",
        "    if(token.text!='\\n\\n' \n",
        "        and not token.is_stop \n",
        "        and not token.is_punct \n",
        "        and not token.is_space \n",
        "        and not token.like_email\n",
        "        and not token.is_digit\n",
        "        and not token.is_quote\n",
        "        and len(demoji.findall(token.text)) is 0\n",
        "        and (re.search(r'@\\S+',token.text) is None)\n",
        "        and not token.like_url):\n",
        "      tweet_hi.append(token.lemma_)\n",
        "\n",
        "  \n",
        "  tweet = ' '.join([token  for token in tweet_hi])\n",
        "   \n",
        "  return tweet"
      ],
      "execution_count": 20,
      "outputs": [
        {
          "output_type": "stream",
          "text": [
            "CPU times: user 6 µs, sys: 0 ns, total: 6 µs\n",
            "Wall time: 8.34 µs\n"
          ],
          "name": "stdout"
        }
      ]
    },
    {
      "cell_type": "code",
      "metadata": {
        "id": "5pp5fu3FH1oc",
        "colab_type": "code",
        "colab": {}
      },
      "source": [
        "tweet = \"आज दिल्ली के तालकटोरा स्टेडियम में शिक्षा विभाग,दिल्ली सरकार के सौजन्य से आयोजित 'हैपीनेस एजुकेशन' के समापन समारोह में सम्मिलित हुआ 😀। इस कार्यक्रम में दिल्ली सरकार के विधायक,शिक्षा विभाग के उच्चाधिकारी व स्कूली बच्चों ने अपनी उपस्थिति दर्ज कराई।  @AAPDelhi @AamAadmiParty  https://t.co/zhNmdReb3A\""
      ],
      "execution_count": 0,
      "outputs": []
    },
    {
      "cell_type": "code",
      "metadata": {
        "id": "Lh9OK_aLIr76",
        "colab_type": "code",
        "colab": {
          "base_uri": "https://localhost:8080/",
          "height": 70
        },
        "outputId": "6d842398-d201-4cf0-918a-38a4f51d71b0"
      },
      "source": [
        "print(\"Original Tweet:\",tweet)\n",
        "tweet = preprocessing_hi(tweet)\n",
        "print(\"Processed Tweet:\",tweet)\n"
      ],
      "execution_count": 32,
      "outputs": [
        {
          "output_type": "stream",
          "text": [
            "Original Tweet: आज दिल्ली के तालकटोरा स्टेडियम में शिक्षा विभाग,दिल्ली सरकार के सौजन्य से आयोजित 'हैपीनेस एजुकेशन' के समापन समारोह में सम्मिलित हुआ 😀। इस कार्यक्रम में दिल्ली सरकार के विधायक,शिक्षा विभाग के उच्चाधिकारी व स्कूली बच्चों ने अपनी उपस्थिति दर्ज कराई।  @AAPDelhi @AamAadmiParty  https://t.co/zhNmdReb3A\n",
            "Processed Tweet: आज दिल्ली तालकटोरा स्टेडियम शिक्षा विभाग दिल्ली सरकार सौजन्य आयोजित हैपीनेस एजुकेशन समापन समारोह सम्मिलित कार्यक्रम दिल्ली सरकार विधायक शिक्षा विभाग उच्चाधिकारी स्कूली बच्चों उपस्थिति दर्ज कराई\n"
          ],
          "name": "stdout"
        }
      ]
    },
    {
      "cell_type": "code",
      "metadata": {
        "id": "szVPrTVkHkx3",
        "colab_type": "code",
        "colab": {}
      },
      "source": [
        ""
      ],
      "execution_count": 0,
      "outputs": []
    }
  ]
}